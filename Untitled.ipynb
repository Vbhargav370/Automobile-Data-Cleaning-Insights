{
 "cells": [
  {
   "cell_type": "code",
   "execution_count": null,
   "id": "df30891a-5328-4d0b-b781-7a6540ea7056",
   "metadata": {},
   "outputs": [],
   "source": []
  }
 ],
 "metadata": {
  "kernelspec": {
   "display_name": "",
   "name": ""
  },
  "language_info": {
   "name": ""
  }
 },
 "nbformat": 4,
 "nbformat_minor": 5
}
